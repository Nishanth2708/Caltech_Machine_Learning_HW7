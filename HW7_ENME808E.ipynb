{
 "cells": [
  {
   "cell_type": "markdown",
   "metadata": {},
   "source": [
    "# The necessery explanation and code for the assignment https://work.caltech.edu/homework/hw7.pdf is provided below\n",
    "\n",
    "{ \n",
    "\n",
    "  1. **[d]**\n",
    "  2. **[e]**\n",
    "  3. **[d]**\n",
    "  4. **[d]**\n",
    "  5. **[b]**\n",
    "  6. **[d]**\n",
    "  7. **[c]**\n",
    "  8. **[c]**\n",
    "  9. **[d]**\n",
    "  10. **[b]** \n",
    " \n",
    " }\n"
   ]
  },
  {
   "cell_type": "code",
   "execution_count": 351,
   "metadata": {},
   "outputs": [],
   "source": [
    "\n",
    "import numpy as np\n",
    "import math\n",
    "import random\n",
    "import matplotlib.pyplot as plt\n",
    "import cvxopt\n",
    "from cvxopt import matrix, solvers\n",
    "from sklearn.svm import SVC"
   ]
  },
  {
   "cell_type": "code",
   "execution_count": 267,
   "metadata": {},
   "outputs": [],
   "source": [
    "train_data = np.loadtxt('http://work.caltech.edu/data/in.dta')\n",
    "test_data = np.loadtxt('http://work.caltech.edu/data/out.dta')"
   ]
  },
  {
   "cell_type": "code",
   "execution_count": 268,
   "metadata": {},
   "outputs": [],
   "source": [
    "x1, x2 = train_data[:25,0], train_data[:25,1]\n",
    "X1, X2 = test_data[:,0], test_data[:,1]\n",
    "\n",
    "val1, val2 = train_data[25:,0],  train_data[25:,1]"
   ]
  },
  {
   "cell_type": "code",
   "execution_count": 269,
   "metadata": {},
   "outputs": [],
   "source": [
    "Y_train = train_data[:25, 2]\n",
    "Val_train = train_data[25:, 2]\n",
    "Y_test = test_data[:,2]"
   ]
  },
  {
   "cell_type": "code",
   "execution_count": 270,
   "metadata": {},
   "outputs": [],
   "source": [
    "def transform7(x1, x2):\n",
    "    \n",
    "    shape = len(x1)\n",
    "    k = 7\n",
    "    data = np.zeros([shape, k+1])\n",
    "    data[:,0] = 1\n",
    "    data[:,1] = x1\n",
    "    data[:,2] = x2\n",
    "    data[:,3] = x1**2\n",
    "    data[:,4] = x2**2\n",
    "    data[:,5] = x1*x2\n",
    "    data[:,6] = abs(x1-x2)\n",
    "    data[:,7] = abs(x1+x2)\n",
    "    \n",
    "    return data\n",
    "    "
   ]
  },
  {
   "cell_type": "code",
   "execution_count": 271,
   "metadata": {},
   "outputs": [],
   "source": [
    "def transform6(x1, x2):\n",
    "    \n",
    "    shape = len(x1)\n",
    "    k = 6\n",
    "    data = np.zeros([shape, k+1])\n",
    "    data[:,0] = 1\n",
    "    data[:,1] = x1\n",
    "    data[:,2] = x2\n",
    "    data[:,3] = x1**2\n",
    "    data[:,4] = x2**2\n",
    "    data[:,5] = x1*x2\n",
    "    data[:,6] = abs(x1-x2)\n",
    "#     data[:,7] = abs(x1+x2)\n",
    "    \n",
    "    return data\n",
    "    "
   ]
  },
  {
   "cell_type": "code",
   "execution_count": 272,
   "metadata": {},
   "outputs": [],
   "source": [
    "def transform5(x1, x2):\n",
    "    \n",
    "    shape = len(x1)\n",
    "    k = 5\n",
    "    data = np.zeros([shape, k+1])\n",
    "    data[:,0] = 1\n",
    "    data[:,1] = x1\n",
    "    data[:,2] = x2\n",
    "    data[:,3] = x1**2\n",
    "    data[:,4] = x2**2\n",
    "    data[:,5] = x1*x2\n",
    "#     data[:,6] = abs(x1-x2)\n",
    "#     data[:,7] = abs(x1+x2)\n",
    "    \n",
    "    return data\n",
    "    "
   ]
  },
  {
   "cell_type": "code",
   "execution_count": 273,
   "metadata": {},
   "outputs": [],
   "source": [
    "def transform4(x1, x2):\n",
    "    \n",
    "    shape = len(x1)\n",
    "    k = 4\n",
    "    data = np.zeros([shape, k+1])\n",
    "    data[:,0] = 1\n",
    "    data[:,1] = x1\n",
    "    data[:,2] = x2\n",
    "    data[:,3] = x1**2\n",
    "    data[:,4] = x2**2\n",
    "#     data[:,5] = x1*x2\n",
    "#     data[:,6] = abs(x1-x2)\n",
    "#     data[:,7] = abs(x1+x2)\n",
    "    \n",
    "    return data\n",
    "    "
   ]
  },
  {
   "cell_type": "code",
   "execution_count": 274,
   "metadata": {},
   "outputs": [],
   "source": [
    "def transform3(x1, x2):\n",
    "    \n",
    "    shape = len(x1)\n",
    "    k = 3\n",
    "    data = np.zeros([shape, k+1])\n",
    "    data[:,0] = 1\n",
    "    data[:,1] = x1\n",
    "    data[:,2] = x2\n",
    "    data[:,3] = x1**2\n",
    "#     data[:,4] = x2**2\n",
    "#     data[:,5] = x1*x2\n",
    "#     data[:,6] = abs(x1-x2)\n",
    "#     data[:,7] = abs(x1+x2)\n",
    "    \n",
    "    return data\n",
    "    "
   ]
  },
  {
   "cell_type": "code",
   "execution_count": 275,
   "metadata": {},
   "outputs": [],
   "source": [
    "test_3 = transform3(X1,X2)\n",
    "test_4 = transform4(X1,X2)\n",
    "test_5= transform5(X1,X2)\n",
    "test_6= transform6(X1,X2)\n",
    "test_7= transform7(X1,X2)"
   ]
  },
  {
   "cell_type": "markdown",
   "metadata": {},
   "source": [
    "# Question 1 & 2"
   ]
  },
  {
   "cell_type": "code",
   "execution_count": 336,
   "metadata": {},
   "outputs": [
    {
     "name": "stdout",
     "output_type": "stream",
     "text": [
      "The Classification error for k=3 is  0.3\n",
      "The E_out for K= 3 is 0.42\n"
     ]
    }
   ],
   "source": [
    "first_weight_term_3 = np.linalg.inv(np.dot(np.transpose(transform3(x1,x2)), transform3(x1,x2)))\n",
    "second_weight_term_3 = np.dot(first_weight_term, np.transpose(transform3(x1,x2)))\n",
    "\n",
    "weight_3 = np.dot(second_weight_term_3 , Y_train)\n",
    "valdata_3= transform3(val1,val2)\n",
    "predictval3 = np.sign(np.dot( valdata_3, weight_3))\n",
    "predictval3_test = np.sign(np.dot(test_3, weight_3))\n",
    "\n",
    "E_val3= np.mean(predictval3 != Val_train)\n",
    "E_out3 = np.mean(predictval3_test != Y_test)\n",
    "print('The Classification error for k=3 is ', E_val3)\n",
    "print('The E_out for K= 3 is', E_out3)"
   ]
  },
  {
   "cell_type": "code",
   "execution_count": 335,
   "metadata": {},
   "outputs": [
    {
     "name": "stdout",
     "output_type": "stream",
     "text": [
      "The Classification error for k=4 is  0.5\n",
      "The E_out for K= 4 is 0.416\n"
     ]
    }
   ],
   "source": [
    "first_weight_term_4 = np.linalg.inv(np.dot(np.transpose(transform4(x1,x2)), transform4(x1,x2)))\n",
    "second_weight_term_4 = np.dot(first_weight_term_4, np.transpose(transform4(x1,x2)))\n",
    "\n",
    "weight_4 = np.dot(second_weight_term_4 , Y_train)\n",
    "valdata_4= transform4(val1,val2)\n",
    "predictval4 = np.sign(np.dot( valdata_4, weight_4))\n",
    "predictval4_test = np.sign(np.dot(test_4, weight_4))\n",
    "\n",
    "E_val4= np.mean(predictval4 != Val_train)\n",
    "E_out4 = np.mean(predictval4_test != Y_test)\n",
    "\n",
    "\n",
    "print('The Classification error for k=4 is ', E_val4)\n",
    "print('The E_out for K= 4 is', E_out4)"
   ]
  },
  {
   "cell_type": "code",
   "execution_count": 337,
   "metadata": {},
   "outputs": [
    {
     "name": "stdout",
     "output_type": "stream",
     "text": [
      "0.2\n",
      "0.188\n",
      "The Classification error for k=5 is  0.2\n",
      "The E_out for K= 5 is 0.188\n"
     ]
    }
   ],
   "source": [
    "first_weight_term_5 = np.linalg.inv(np.dot(np.transpose(transform5(x1,x2)), transform5(x1,x2)))\n",
    "second_weight_term_5 = np.dot(first_weight_term_5, np.transpose(transform5(x1,x2)))\n",
    "\n",
    "weight_5 = np.dot(second_weight_term_5 , Y_train)\n",
    "valdata_5= transform5(val1,val2)\n",
    "predictval5 = np.sign(np.dot( valdata_5, weight_5))\n",
    "E_val5= np.mean(predictval5 != Val_train)\n",
    "\n",
    "predictval5_test = np.sign(np.dot(test_5, weight_5))\n",
    "E_out5 = np.mean(predictval5_test != Y_test)\n",
    "\n",
    "# print(E_val5)\n",
    "# print(E_out5)\n",
    "\n",
    "print('The Classification error for k=5 is ', E_val5)\n",
    "print('The E_out for K= 5 is', E_out5)"
   ]
  },
  {
   "cell_type": "code",
   "execution_count": 338,
   "metadata": {},
   "outputs": [
    {
     "name": "stdout",
     "output_type": "stream",
     "text": [
      "The Classification error for k=6 is  0.0\n",
      "The E_out for K= 6 is 0.084\n"
     ]
    }
   ],
   "source": [
    "first_weight_term_6 = np.linalg.inv(np.dot(np.transpose(transform6(x1,x2)), transform6(x1,x2)))\n",
    "second_weight_term_6 = np.dot(first_weight_term_6, np.transpose(transform6(x1,x2)))\n",
    "\n",
    "weight_6 = np.dot(second_weight_term_6 , Y_train)\n",
    "valdata_6= transform6(val1,val2)\n",
    "predictval6 = np.sign(np.dot( valdata_6, weight_6))\n",
    "E_val6= np.mean(predictval6 != Val_train)\n",
    "\n",
    "\n",
    "predictval6_test = np.sign(np.dot(test_6, weight_6))\n",
    "E_out6 = np.mean(predictval6_test != Y_test)\n",
    "\n",
    "# print(E_val6)\n",
    "# print(E_out6)\n",
    "\n",
    "print('The Classification error for k=6 is ', E_val6)\n",
    "print('The E_out for K= 6 is', E_out6)"
   ]
  },
  {
   "cell_type": "code",
   "execution_count": 339,
   "metadata": {},
   "outputs": [
    {
     "name": "stdout",
     "output_type": "stream",
     "text": [
      "The Classification error for k=7 is  0.1\n",
      "The E_out for K= 7 is 0.072\n"
     ]
    }
   ],
   "source": [
    "first_weight_term_7 = np.linalg.inv(np.dot(np.transpose(transform7(x1,x2)), transform7(x1,x2)))\n",
    "second_weight_term_7 = np.dot(first_weight_term_7, np.transpose(transform7(x1,x2)))\n",
    "\n",
    "weight_7 = np.dot(second_weight_term_7 , Y_train)\n",
    "valdata_7= transform7(val1,val2)\n",
    "predictval7 = np.sign(np.dot( valdata_7, weight_7))\n",
    "E_val7= np.mean(predictval7 != Val_train)\n",
    "\n",
    "\n",
    "predictval7_test = np.sign(np.dot(test_7, weight_7))\n",
    "E_out7 = np.mean(predictval7_test != Y_test)\n",
    "\n",
    "# print(E_val7)\n",
    "# print(E_out7)\n",
    "\n",
    "print('The Classification error for k=7 is ', E_val7)\n",
    "print('The E_out for K= 7 is', E_out7)\n"
   ]
  },
  {
   "cell_type": "markdown",
   "metadata": {},
   "source": [
    "# Question 3 & 4"
   ]
  },
  {
   "cell_type": "code",
   "execution_count": 353,
   "metadata": {},
   "outputs": [
    {
     "name": "stdout",
     "output_type": "stream",
     "text": [
      "The Classification error for k=3 is  0.28\n",
      "The E_out for K= 3 is 0.396\n"
     ]
    }
   ],
   "source": [
    "first_weight_term_3_rev = np.linalg.inv(np.dot(np.transpose(transform3(val1,val2)), transform3(val1,val2)))\n",
    "second_weight_term_3_rev = np.dot(first_weight_term_3_rev, np.transpose(transform3(val1,val2)))\n",
    "\n",
    "weight_3_rev = np.dot(second_weight_term_3_rev , Val_train)\n",
    "valdata_3_rev= transform3(x1,x2)\n",
    "predictval3_rev = np.sign(np.dot( valdata_3_rev, weight_3_rev))\n",
    "predictval3_test_rev = np.sign(np.dot(test_3, weight_3_rev))\n",
    "\n",
    "E_val3_rev= np.mean(predictval3_rev != Y_train)\n",
    "E_out3_rev = np.mean(predictval3_test_rev != Y_test)\n",
    "# print(E_val3_rev)\n",
    "# print(E_out3_rev)\n",
    "\n",
    "print('The Classification error for k=3 is ', E_val3_rev)\n",
    "print('The E_out for K= 3 is', E_out3_rev)"
   ]
  },
  {
   "cell_type": "code",
   "execution_count": 340,
   "metadata": {},
   "outputs": [
    {
     "name": "stdout",
     "output_type": "stream",
     "text": [
      "The Classification error for k=4 is  0.36\n",
      "The E_out for K= 4 is 0.388\n"
     ]
    }
   ],
   "source": [
    "first_weight_term_4_rev = np.linalg.inv(np.dot(np.transpose(transform4(val1,val2)), transform4(val1,val2)))\n",
    "second_weight_term_4_rev = np.dot(first_weight_term_4_rev, np.transpose(transform4(val1,val2)))\n",
    "\n",
    "weight_4_rev = np.dot(second_weight_term_4_rev , Val_train)\n",
    "valdata_4_rev= transform4(x1,x2)\n",
    "predictval4_rev = np.sign(np.dot( valdata_4_rev, weight_4_rev))\n",
    "predictval4_test_rev = np.sign(np.dot(test_4, weight_4_rev))\n",
    "\n",
    "E_val4_rev= np.mean(predictval4_rev != Y_train)\n",
    "E_out4_rev = np.mean(predictval4_test_rev != Y_test)\n",
    "# print(E_val4_rev)\n",
    "# print(E_out4_rev)\n",
    "\n",
    "\n",
    "print('The Classification error for k=4 is ', E_val4_rev)\n",
    "print('The E_out for K= 4 is', E_out4_rev)"
   ]
  },
  {
   "cell_type": "code",
   "execution_count": 354,
   "metadata": {},
   "outputs": [
    {
     "name": "stdout",
     "output_type": "stream",
     "text": [
      "The Classification error for k=5 is  0.2\n",
      "The E_out for K= 5 is 0.284\n"
     ]
    }
   ],
   "source": [
    "first_weight_term_5_rev = np.linalg.inv(np.dot(np.transpose(transform5(val1,val2)), transform5(val1,val2)))\n",
    "second_weight_term_5_rev = np.dot(first_weight_term_5_rev, np.transpose(transform5(val1,val2)))\n",
    "\n",
    "weight_5_rev = np.dot(second_weight_term_5_rev , Val_train)\n",
    "valdata_5_rev= transform5(x1,x2)\n",
    "predictval5_rev = np.sign(np.dot( valdata_5_rev, weight_5_rev))\n",
    "predictval5_test_rev = np.sign(np.dot(test_5, weight_5_rev))\n",
    "\n",
    "E_val5_rev= np.mean(predictval5_rev != Y_train)\n",
    "E_out5_rev = np.mean(predictval5_test_rev != Y_test)\n",
    "# print(E_val5_rev)\n",
    "# print(E_out5_rev)\n",
    "\n",
    "\n",
    "print('The Classification error for k=5 is ', E_val5_rev)\n",
    "print('The E_out for K= 5 is', E_out5_rev)"
   ]
  },
  {
   "cell_type": "code",
   "execution_count": 341,
   "metadata": {},
   "outputs": [
    {
     "name": "stdout",
     "output_type": "stream",
     "text": [
      "The Classification error for k=6 is  0.08\n",
      "The E_out for K= 6 is 0.192\n"
     ]
    }
   ],
   "source": [
    "first_weight_term_6_rev = np.linalg.inv(np.dot(np.transpose(transform6(val1,val2)), transform6(val1,val2)))\n",
    "second_weight_term_6_rev = np.dot(first_weight_term_6_rev, np.transpose(transform6(val1,val2)))\n",
    "\n",
    "weight_6_rev = np.dot(second_weight_term_6_rev , Val_train)\n",
    "valdata_6_rev= transform6(x1,x2)\n",
    "predictval6_rev = np.sign(np.dot( valdata_6_rev, weight_6_rev))\n",
    "predictval6_test_rev = np.sign(np.dot(test_6, weight_6_rev))\n",
    "\n",
    "E_val6_rev= np.mean(predictval6_rev != Y_train)\n",
    "E_out6_rev = np.mean(predictval6_test_rev != Y_test)\n",
    "# print(E_val6_rev)\n",
    "# print(E_out6_rev)\n",
    "\n",
    "\n",
    "print('The Classification error for k=6 is ', E_val6_rev)\n",
    "print('The E_out for K= 6 is', E_out6_rev)"
   ]
  },
  {
   "cell_type": "code",
   "execution_count": 342,
   "metadata": {},
   "outputs": [
    {
     "name": "stdout",
     "output_type": "stream",
     "text": [
      "The Classification error for k=7 is  0.12\n",
      "The E_out for K= 7 is 0.196\n"
     ]
    }
   ],
   "source": [
    "first_weight_term_7_rev = np.linalg.inv(np.dot(np.transpose(transform7(val1,val2)), transform7(val1,val2)))\n",
    "second_weight_term_7_rev = np.dot(first_weight_term_7_rev, np.transpose(transform7(val1,val2)))\n",
    "\n",
    "weight_7_rev = np.dot(second_weight_term_7_rev , Val_train)\n",
    "valdata_7_rev= transform7(x1,x2)\n",
    "predictval7_rev = np.sign(np.dot( valdata_7_rev, weight_7_rev))\n",
    "predictval7_test_rev = np.sign(np.dot(test_7, weight_7_rev))\n",
    "\n",
    "E_val7_rev= np.mean(predictval7_rev != Y_train)\n",
    "E_out7_rev = np.mean(predictval7_test_rev != Y_test)\n",
    "# print(E_val7_rev)\n",
    "# print(E_out7_rev)\n",
    "\n",
    "\n",
    "print('The Classification error for k=7 is ', E_val7_rev)\n",
    "print('The E_out for K= 7 is', E_out7_rev)"
   ]
  },
  {
   "cell_type": "markdown",
   "metadata": {},
   "source": [
    "#  Question 5"
   ]
  },
  {
   "cell_type": "markdown",
   "metadata": {},
   "source": [
    "For k =6, the out of sample error is least before and after reversing the train and validation sets the closest eucledian distance for 0.084, 0.192 is 0.1 and **0.2**"
   ]
  },
  {
   "cell_type": "markdown",
   "metadata": {},
   "source": [
    "# Question 6"
   ]
  },
  {
   "cell_type": "code",
   "execution_count": 334,
   "metadata": {},
   "outputs": [
    {
     "name": "stdout",
     "output_type": "stream",
     "text": [
      "After 1000 iterations the Expected value for \n",
      "e1 is 0.501,\n",
      "e2 is 0.5,\n",
      "e is 0.3342\n"
     ]
    }
   ],
   "source": [
    "lst1 =[]\n",
    "lst2=[]\n",
    "lst3=[]\n",
    "for e1 in range(300000):\n",
    "    Y = ((random.random()))\n",
    "    T = ((random.random()))\n",
    "    lst1.append(Y)\n",
    "    lst2.append(T)\n",
    "    m = min(Y,T)\n",
    "    lst3.append(m)\n",
    "    \n",
    "e_1= round((sum(lst1)/len(lst1)),3)\n",
    "e_2 = round(sum(lst2)/len(lst2),3)\n",
    "e3= round((sum(lst3)/len(lst3)),4)\n",
    "\n",
    "\n",
    "print('After 300000 iterations the Expected value for \\ne1 is {},\\ne2 is {},\\ne is {}'.format(e_1,e_2,e3))"
   ]
  },
  {
   "cell_type": "markdown",
   "metadata": {},
   "source": [
    "# Question 7"
   ]
  },
  {
   "attachments": {
    "image.png": {
     "image/png": "[encoded data removed]"
    }
   },
   "cell_type": "markdown",
   "metadata": {},
   "source": [
    " 1. Considering the first model { h0(x) = b}, the line eqn passing from the points is observed to be 0 for which the square error from y= 0 to (rho, 1) is 1, Now, for the point (1,0) or (-1,0) and (rho,1) the line should be located in the middle of interval where y= 1/2. the validation error for two points would 1/4.\n",
    "\n",
    "  **the total error is 1/3(1+ 2 * (1/4)) i.e, 1/2** -----------------> 1\n",
    "\n",
    "2. Considering the second model, {h(x) = ax+b}, the validation error for the points (-1, 0) and (1, 0) is 1. Now, for the same above points to the point the ( 2/ 1- rho) and 2/ ( 1+ rho).\n",
    "\n",
    "  The total error is 1/3( 1 + ( 4/(1-rho )*2  +  ( 4/ (1+ rho)*2)\n",
    "\n",
    "  error = 1/3 ( 1 + 4 / (1-rho)*2 + 4/(1+rho)*2 ) ---------------> 2\n",
    "\n",
    "  equating equation 1 and 2\n",
    "\n",
    "  1/2 = 1/3 ( 1 + 4 / (1-rho)*2 + 4/(1+rho)*2 )\n",
    "  1/2 =  4 / (1-rho)*2 + 4/(1+rho)*2\n",
    "  1/8 =  2(1+rho*2)/(1-rho*2)*4\n",
    "\n",
    "  **rho^4 - 18* rho^2 - 15 = 0;\n",
    "\n",
    "  After math, for rho >0, the value is **![image.png](attachment:image.png)**\n"
   ]
  },
  {
   "cell_type": "markdown",
   "metadata": {},
   "source": [
    "# Question 8, 9 & 10"
   ]
  },
  {
   "cell_type": "code",
   "execution_count": 355,
   "metadata": {},
   "outputs": [
    {
     "name": "stdout",
     "output_type": "stream",
     "text": [
      "Size of training data: N =  100 points\n",
      "\n",
      "Average number of PLA iterations over 1000 runs: t_avg =  76.658\n",
      "\n",
      "Average ratio for the mismatch between f(x) and h(x) outside of the training data:\n",
      "P(f(x)!=h(x)) =  0.012507999999999948\n"
     ]
    }
   ],
   "source": [
    "\n",
    "# HW1 PLA###\n",
    "\n",
    "def rnd(n): \n",
    "    return np.random.uniform(-1, 1, size = n)\n",
    "\n",
    "RUNS = 1000\n",
    "iterations_total = 0\n",
    "ratio_mismatch_total = 0\n",
    "\n",
    "\n",
    "################################## PLA ##########################################\n",
    "for run in range(RUNS):\n",
    "\n",
    "    # choose two random points A, B in [-1,1] x [-1,1]\n",
    "    X = rnd(2)\n",
    "    Y = rnd(2)\n",
    "\n",
    "    m = (Y[1] - X[1]) / (Y[0] - X[0])\n",
    "    b = Y[1] - m * X[0]  \n",
    "    w_f = np.array([b, m, -1])\n",
    "\n",
    "    N = 100\n",
    "    X = np.transpose(np.array([np.ones(N), rnd(N), rnd(N)]))           # input\n",
    "    y_f = np.sign(np.dot(X, w_f))                                      # output\n",
    "    \n",
    "\n",
    "\n",
    "    w_h = np.zeros(3)                       # initialize weight vector for hypothesis h\n",
    "    t = 0                                   # count number of iterations in PLA\n",
    "    \n",
    "    while True:\n",
    "        # Start PLA\n",
    "        y_h = np.sign(np.dot(X, w_h))       # classification by hypothesis\n",
    "        comp = (y_h != y_f)                 # compare classification with actual data from target function\n",
    "        wrong = np.where(comp)[0]           # indices of points with wrong classification by hypothesis h\n",
    "\n",
    "        if wrong.size == 0:\n",
    "            break\n",
    "        \n",
    "        rnd_choice = np.random.choice(wrong)        # pick a random misclassified point\n",
    "\n",
    "        # update weight vector (new hypothesis):\n",
    "        w_h = w_h +  y_f[rnd_choice] * np.transpose(X[rnd_choice])\n",
    "        t += 1\n",
    "\n",
    "    iterations_total += t\n",
    "    \n",
    "    # Calculate error\n",
    "    # Create data \"outside\" of training data\n",
    "\n",
    "    N_outside = 1000\n",
    "    test_x0 = np.random.uniform(-1,1,N_outside)\n",
    "    test_x1 = np.random.uniform(-1,1,N_outside)\n",
    "\n",
    "    X = np.array([np.ones(N_outside), test_x0, test_x1]).T\n",
    "\n",
    "    y_target = np.sign(X.dot(w_f))\n",
    "    y_hypothesis = np.sign(X.dot(w_h))\n",
    "    \n",
    "    ratio_mismatch = np.mean((y_target != y_hypothesis))\n",
    "    ratio_mismatch_total += ratio_mismatch\n",
    "    \n",
    "print(\"Size of training data: N = \", N, \"points\")\n",
    "    \n",
    "iterations_avg = iterations_total / RUNS\n",
    "print(\"\\nAverage number of PLA iterations over\", RUNS, \"runs: t_avg = \", iterations_avg)\n",
    "\n",
    "ratio_mismatch_avg = ratio_mismatch_total / RUNS\n",
    "print(\"\\nAverage ratio for the mismatch between f(x) and h(x) outside of the training data:\")\n",
    "print(\"P(f(x)!=h(x)) = \", ratio_mismatch_avg)"
   ]
  },
  {
   "cell_type": "code",
   "execution_count": 327,
   "metadata": {},
   "outputs": [],
   "source": [
    "def target_line():\n",
    "    xa,ya,xb,yb = [random.uniform(-1, 1) for i in range(4)]\n",
    "    weight = np.array([xb*ya-xa*yb, yb-ya, xa-xb])\n",
    "    weight = weight.reshape((l.shape[0],1))\n",
    "    f = lambda x:(yb-ya)/(xb-xa)*(x-xa)+ya\n",
    "    return weight,f\n"
   ]
  },
  {
   "cell_type": "code",
   "execution_count": 328,
   "metadata": {},
   "outputs": [],
   "source": [
    "def xy_data(d,N,weight):        \n",
    "    # Generate X and y values\n",
    "    while True:\n",
    "        X = np.column_stack((np.ones(N),\n",
    "                         np.random.uniform(-1.,1., size=(N, d))))\n",
    "        Y = np.array(np.where(np.dot(X,weight)>=0,1,-1))\n",
    "        if Y.min() != Y.max(): # ensure two class target\n",
    "            break\n",
    "            \n",
    "    return X,Y"
   ]
  },
  {
   "cell_type": "code",
   "execution_count": 356,
   "metadata": {},
   "outputs": [],
   "source": [
    "\n",
    "def pla(X, y, learn_rate):\n",
    "            \n",
    "    # Initialize weights at zero\n",
    "    w = np.zeros((d+1,1))\n",
    "        \n",
    "    cnt_iter = 0\n",
    "    while True:\n",
    "        g = np.where(np.dot(X,w) >= 0, 1, -1)\n",
    "        err = g - y\n",
    "        misclass = np.nonzero(err)[0]\n",
    "        if len(misclass) == 0:\n",
    "            break\n",
    "        else:\n",
    "            point = random.choice(misclass) # choose a random point from the vector of misclassifications\n",
    "            update = np.reshape(learn_rate*y[point]*X[point],(len(w),1))\n",
    "            w = w + update \n",
    "            cnt_iter += 1\n",
    "  \n",
    "    \n",
    "    return w\n",
    "\n",
    "\n",
    "def test(Xt,yt,w):\n",
    "    g = np.where(np.dot(Xt,w)>=0, 1, -1)\n",
    "    E_out = np.count_nonzero(g - yt)/Nt\n",
    "    return E_out"
   ]
  },
  {
   "cell_type": "markdown",
   "metadata": {},
   "source": [
    "## Reference for SVM is taken from https://xavierbourretsicotte.github.io/SVM_implementation.html"
   ]
  },
  {
   "cell_type": "code",
   "execution_count": 331,
   "metadata": {},
   "outputs": [],
   "source": [
    "\n",
    "def svm_fitP(X,y):\n",
    "\n",
    "    # Reshape y\n",
    "    X = X[:,1:]\n",
    "    y = y.reshape(-1,)\n",
    "   \n",
    "    # Get the necessary dimensions\n",
    "    d = X.shape[1]\n",
    "    L = d + 1\n",
    "    M = X.shape[0]\n",
    "    \n",
    "    #=====PRIMAL FORMULATION=====\n",
    "    # Compute required inputs of the problem\n",
    "    p = np.zeros((L,1))\n",
    "    Q = np.vstack([p.T,np.column_stack([p[1:],np.eye(d)])])\n",
    "    A = -np.column_stack([y,y[:,None]*X])\n",
    "    c = -np.ones((M))\n",
    "    \n",
    "    # Adjust the inputs to the algorithm used (see above notes)\n",
    "    P = matrix(Q, tc = 'd')\n",
    "    q = matrix(p, tc = 'd')\n",
    "    G = matrix(A, tc = 'd')\n",
    "    h = matrix(c, tc = 'd')\n",
    "\n",
    "    # QP solution - primal problem\n",
    "    solvers.options['show_progress'] = False\n",
    "    w = solvers.qp(P, q, G, h)['x']\n",
    "    \n",
    "    return w\n",
    "\n",
    "def svm_fitD(X,y):\n",
    "\n",
    "    # Reshape y\n",
    "    X = X[:,1:]\n",
    "    y = y.reshape(-1,)\n",
    "   \n",
    "    # Get the necessary dimensions\n",
    "    d = X.shape[1]\n",
    "    L = d + 1\n",
    "    M = X.shape[0]\n",
    "        \n",
    "    #=====DUAL FORMULATION=====\n",
    "    # Compute required inputs of the problem\n",
    "    y = y.reshape(-1,1)\n",
    "    QD = (np.dot(y,y.T)) * (np.dot(X,X.T))\n",
    "    P = matrix(QD, tc = 'd')\n",
    "    AD = -np.vstack([y.T,-y.T,np.eye(M)])\n",
    "    A = matrix (AD, tc = 'd')\n",
    "    q = matrix(-np.ones((M,1)), tc = 'd')\n",
    "    h = matrix(np.zeros((M+2)), tc='d')\n",
    "    \n",
    "    # QP solution - dual problem\n",
    "    solvers.options['abstol'] = 1e-6\n",
    "    solvers.options['reltol'] = 1e-5\n",
    "    solvers.options['feastol'] = 1e-6\n",
    "    sol = solvers.qp(P,q,A,h)\n",
    "    alpha = np.around(np.array(sol['x']), decimals = 2)\n",
    "    \n",
    "    return alpha\n",
    "        "
   ]
  },
  {
   "cell_type": "code",
   "execution_count": 329,
   "metadata": {},
   "outputs": [],
   "source": [
    "\n",
    "N = 10\n",
    "Nt = 1000 \n",
    "d = 2 \n",
    "no_trials = 1000 \n",
    "learn_rate = 0.01 "
   ]
  },
  {
   "cell_type": "code",
   "execution_count": 362,
   "metadata": {},
   "outputs": [
    {
     "name": "stdout",
     "output_type": "stream",
     "text": [
      "Percentage of times SVM is better equals to  59.4 %\n"
     ]
    }
   ],
   "source": [
    "Epla = []\n",
    "Esvm = []\n",
    "count = 0\n",
    "for i in range(1000):\n",
    "    \n",
    "    weight,f = target_line()\n",
    "    X,y = xy_data(2,10,l)\n",
    "    Xt,yt = xy_data(d,Nt,l)\n",
    "\n",
    "    w_pla = pla(X, y, learn_rate)\n",
    "    E_pla = test(Xt,yt,w_pla)\n",
    "    \n",
    "    w_svm = svm_fitP(X,y)\n",
    "    E_svm = test(Xt,yt, w_svm)\n",
    "    \n",
    "    Epla.append(E_pla)\n",
    "    Esvm.append(E_svm)\n",
    "    \n",
    "    if E_svm < E_pla:\n",
    "        count += 1\n",
    "        \n",
    "print('Percentage of times SVM is better equals to ', (count/float(no_trials))*100,'%')"
   ]
  },
  {
   "cell_type": "code",
   "execution_count": 360,
   "metadata": {},
   "outputs": [
    {
     "name": "stdout",
     "output_type": "stream",
     "text": [
      "Percentage of times SVM is better equals to  56.99999999999999 %\n"
     ]
    }
   ],
   "source": [
    "N = 100 # number of train examples\n",
    "no_trials = 1000\n",
    "d = 2\n",
    "\n",
    "Epla = []\n",
    "Esvm = []\n",
    "count = 0\n",
    "for i in range(no_trials):\n",
    "    \n",
    "    l,f = target_line()\n",
    "    X,y = xy_data(d,N,l)\n",
    "    Xt,yt = xy_data(d,Nt,l)\n",
    "\n",
    "    w_pla = pla(X, y, learn_rate)\n",
    "    E_pla = test(Xt,yt,w_pla)\n",
    "    \n",
    "    w_svm = svm_fitP(X,y)\n",
    "    E_svm = test(Xt,yt, w_svm)\n",
    "    \n",
    "    Epla.append(E_pla)\n",
    "    Esvm.append(E_svm)\n",
    "    \n",
    "    if E_svm < E_pla:\n",
    "        count += 1\n",
    "        \n",
    "print('Percentage of times SVM is better equals to ', (count/float(no_trials))*100,'%')"
   ]
  },
  {
   "cell_type": "code",
   "execution_count": 347,
   "metadata": {},
   "outputs": [
    {
     "name": "stdout",
     "output_type": "stream",
     "text": [
      "Average number of support vectors per trial run is  3.0\n"
     ]
    }
   ],
   "source": [
    "N = 100\n",
    "no_trials = 500\n",
    "d = 2\n",
    "\n",
    "Epla = []\n",
    "Esvm = []\n",
    "sv_cnt = 0 # count support vetors per trial run\n",
    "count = 0\n",
    "for i in range(no_trials):\n",
    "    \n",
    "    l,f = target_line()\n",
    "    X,y = xy_data(d,N,l)\n",
    "    Xt,yt = xy_data(d,Nt,l)\n",
    "\n",
    "    w_pla = pla(X, y, learn_rate)\n",
    "    E_pla = test(Xt,yt,w_pla)\n",
    "    \n",
    "    alpha = svm_fitD(X,y)\n",
    "    E_svm = test(Xt,yt, w_svm)\n",
    "    sv_cnt += len(alpha[alpha>0])\n",
    "    \n",
    "    Epla.append(E_pla)\n",
    "    Esvm.append(E_svm)\n",
    "    \n",
    "    if E_svm < E_pla:\n",
    "        count += 1\n",
    "        \n",
    "print('Average number of support vectors per trial run is ', sv_cnt/float(no_trials))"
   ]
  }
 ],
 "metadata": {
  "kernelspec": {
   "display_name": "Python 3",
   "language": "python",
   "name": "python3"
  },
  "language_info": {
   "codemirror_mode": {
    "name": "ipython",
    "version": 3
   },
   "file_extension": ".py",
   "mimetype": "text/x-python",
   "name": "python",
   "nbconvert_exporter": "python",
   "pygments_lexer": "ipython3",
   "version": "3.8.1"
  }
 },
 "nbformat": 4,
 "nbformat_minor": 4
}
